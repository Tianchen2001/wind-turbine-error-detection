{
 "cells": [
  {
   "cell_type": "code",
   "execution_count": 42,
   "metadata": {},
   "outputs": [],
   "source": [
    "import torch\n",
    "import torch.nn as nn\n",
    "import torch.optim as optim\n",
    "\n",
    "from torch.utils.data import DataLoader\n",
    "\n",
    "from tqdm import tqdm\n",
    "\n",
    "from matplotlib import pyplot as plt\n",
    "\n",
    "from modules.dataset import AudioDataset\n",
    "from modules.transformer import TransformerModel\n",
    "from modulesutils import process_audio_data, split_dataset"
   ]
  },
  {
   "cell_type": "code",
   "execution_count": 2,
   "metadata": {},
   "outputs": [],
   "source": [
    "audio_dataset = AudioDataset('data/normal', 'data/whistle')"
   ]
  },
  {
   "cell_type": "code",
   "execution_count": 3,
   "metadata": {},
   "outputs": [],
   "source": [
    "train_dataset, valid_dataset, test_dataset = split_dataset(audio_dataset)"
   ]
  },
  {
   "cell_type": "code",
   "execution_count": 4,
   "metadata": {},
   "outputs": [],
   "source": [
    "train_loader = DataLoader(train_dataset, batch_size=32, shuffle=True)\n",
    "valid_loader = DataLoader(valid_dataset, batch_size=32, shuffle=False)\n",
    "test_loader = DataLoader(test_dataset, batch_size=32, shuffle=False)"
   ]
  },
  {
   "cell_type": "code",
   "execution_count": 5,
   "metadata": {},
   "outputs": [],
   "source": [
    "def train_model(model, train_loader, valid_loader, num_epochs, criterion, optimizer, device):\n",
    "    model.to(device)\n",
    "    \n",
    "    train_loss_history, train_acc_history = [], []\n",
    "    valid_loss_history, valid_acc_history = [], []\n",
    "\n",
    "    for epoch in range(num_epochs):\n",
    "        model.train()  # Set the model to training mode\n",
    "        train_loss, train_corrects = 0.0, 0\n",
    "\n",
    "        for inputs, labels in tqdm(train_loader, desc=f'Epoch {epoch+1}/{num_epochs} [Training]'):\n",
    "            inputs, labels = inputs.to(device), labels.to(device)\n",
    "\n",
    "            optimizer.zero_grad()\n",
    "\n",
    "            outputs = model(inputs)\n",
    "            loss = criterion(outputs, labels)\n",
    "\n",
    "            loss.backward()\n",
    "            optimizer.step()\n",
    "\n",
    "            train_loss += loss.item() * inputs.size(0)\n",
    "            \n",
    "            predicted = torch.argmax(outputs, dim=1)\n",
    "            train_corrects += torch.sum(predicted == labels).item()\n",
    "\n",
    "        train_loss /= len(train_loader.dataset)\n",
    "        train_acc = train_corrects / len(train_loader.dataset)\n",
    "        \n",
    "        train_loss_history.append(train_loss)\n",
    "        train_acc_history.append(train_acc)\n",
    "\n",
    "        model.eval()  # Set the model to evaluation mode\n",
    "        valid_loss, valid_corrects = 0.0, 0\n",
    "\n",
    "        with torch.no_grad():\n",
    "            for inputs, labels in tqdm(valid_loader, desc=f'Epoch {epoch+1}/{num_epochs} [Validation]'):\n",
    "                inputs, labels = inputs.to(device), labels.to(device)\n",
    "\n",
    "                outputs = model(inputs)\n",
    "                loss = criterion(outputs, labels)\n",
    "                \n",
    "                valid_loss += loss.item() * inputs.size(0)\n",
    "                \n",
    "                predicted = torch.argmax(outputs, dim=1)\n",
    "                valid_corrects += torch.sum(predicted == labels).item()\n",
    "\n",
    "        valid_loss /= len(valid_loader.dataset)\n",
    "        valid_acc = valid_corrects / len(valid_loader.dataset)\n",
    "        \n",
    "        valid_loss_history.append(valid_loss)\n",
    "        valid_acc_history.append(valid_acc)\n",
    "\n",
    "        print(f'Train Loss: {train_loss:.4f}, Train Acc: {train_acc:.4f}\\n'\n",
    "              f'Validation Loss: {valid_loss:.4f}, Validation Acc: {valid_acc:.4f}')\n",
    "\n",
    "    return train_loss_history, train_acc_history, valid_loss_history, valid_acc_history"
   ]
  },
  {
   "cell_type": "code",
   "execution_count": 6,
   "metadata": {},
   "outputs": [],
   "source": [
    "model = TransformerModel(n_features=1025, n_classes=2)"
   ]
  },
  {
   "cell_type": "code",
   "execution_count": 7,
   "metadata": {},
   "outputs": [
    {
     "name": "stderr",
     "output_type": "stream",
     "text": [
      "Epoch 1/25 [Training]: 100%|██████████| 10/10 [00:03<00:00,  2.68it/s]\n",
      "Epoch 1/25 [Validation]: 100%|██████████| 3/3 [00:00<00:00, 21.90it/s]\n"
     ]
    },
    {
     "name": "stdout",
     "output_type": "stream",
     "text": [
      "Train Loss: 0.7276, Train Acc: 0.5235\n",
      "Validation Loss: 0.6490, Validation Acc: 0.5735\n"
     ]
    },
    {
     "name": "stderr",
     "output_type": "stream",
     "text": [
      "Epoch 2/25 [Training]: 100%|██████████| 10/10 [00:01<00:00,  5.71it/s]\n",
      "Epoch 2/25 [Validation]: 100%|██████████| 3/3 [00:00<00:00, 20.90it/s]\n"
     ]
    },
    {
     "name": "stdout",
     "output_type": "stream",
     "text": [
      "Train Loss: 0.6558, Train Acc: 0.5925\n",
      "Validation Loss: 0.6642, Validation Acc: 0.4265\n"
     ]
    },
    {
     "name": "stderr",
     "output_type": "stream",
     "text": [
      "Epoch 3/25 [Training]: 100%|██████████| 10/10 [00:01<00:00,  5.70it/s]\n",
      "Epoch 3/25 [Validation]: 100%|██████████| 3/3 [00:00<00:00, 20.27it/s]\n"
     ]
    },
    {
     "name": "stdout",
     "output_type": "stream",
     "text": [
      "Train Loss: 0.6270, Train Acc: 0.6238\n",
      "Validation Loss: 0.5692, Validation Acc: 0.8382\n"
     ]
    },
    {
     "name": "stderr",
     "output_type": "stream",
     "text": [
      "Epoch 4/25 [Training]: 100%|██████████| 10/10 [00:01<00:00,  5.71it/s]\n",
      "Epoch 4/25 [Validation]: 100%|██████████| 3/3 [00:00<00:00, 20.55it/s]\n"
     ]
    },
    {
     "name": "stdout",
     "output_type": "stream",
     "text": [
      "Train Loss: 0.5602, Train Acc: 0.9122\n",
      "Validation Loss: 0.4909, Validation Acc: 1.0000\n"
     ]
    },
    {
     "name": "stderr",
     "output_type": "stream",
     "text": [
      "Epoch 5/25 [Training]: 100%|██████████| 10/10 [00:01<00:00,  5.68it/s]\n",
      "Epoch 5/25 [Validation]: 100%|██████████| 3/3 [00:00<00:00, 21.46it/s]\n"
     ]
    },
    {
     "name": "stdout",
     "output_type": "stream",
     "text": [
      "Train Loss: 0.4583, Train Acc: 0.9028\n",
      "Validation Loss: 0.3430, Validation Acc: 0.8382\n"
     ]
    },
    {
     "name": "stderr",
     "output_type": "stream",
     "text": [
      "Epoch 6/25 [Training]: 100%|██████████| 10/10 [00:01<00:00,  5.71it/s]\n",
      "Epoch 6/25 [Validation]: 100%|██████████| 3/3 [00:00<00:00, 21.66it/s]\n"
     ]
    },
    {
     "name": "stdout",
     "output_type": "stream",
     "text": [
      "Train Loss: 0.3667, Train Acc: 0.8401\n",
      "Validation Loss: 0.2679, Validation Acc: 0.8971\n"
     ]
    },
    {
     "name": "stderr",
     "output_type": "stream",
     "text": [
      "Epoch 7/25 [Training]: 100%|██████████| 10/10 [00:01<00:00,  5.69it/s]\n",
      "Epoch 7/25 [Validation]: 100%|██████████| 3/3 [00:00<00:00, 20.83it/s]\n"
     ]
    },
    {
     "name": "stdout",
     "output_type": "stream",
     "text": [
      "Train Loss: 0.2090, Train Acc: 0.9561\n",
      "Validation Loss: 0.1414, Validation Acc: 1.0000\n"
     ]
    },
    {
     "name": "stderr",
     "output_type": "stream",
     "text": [
      "Epoch 8/25 [Training]: 100%|██████████| 10/10 [00:01<00:00,  5.75it/s]\n",
      "Epoch 8/25 [Validation]: 100%|██████████| 3/3 [00:00<00:00, 21.13it/s]\n"
     ]
    },
    {
     "name": "stdout",
     "output_type": "stream",
     "text": [
      "Train Loss: 0.1413, Train Acc: 0.9655\n",
      "Validation Loss: 0.0791, Validation Acc: 1.0000\n"
     ]
    },
    {
     "name": "stderr",
     "output_type": "stream",
     "text": [
      "Epoch 9/25 [Training]: 100%|██████████| 10/10 [00:01<00:00,  5.71it/s]\n",
      "Epoch 9/25 [Validation]: 100%|██████████| 3/3 [00:00<00:00, 21.13it/s]\n"
     ]
    },
    {
     "name": "stdout",
     "output_type": "stream",
     "text": [
      "Train Loss: 0.0825, Train Acc: 0.9843\n",
      "Validation Loss: 0.0366, Validation Acc: 1.0000\n"
     ]
    },
    {
     "name": "stderr",
     "output_type": "stream",
     "text": [
      "Epoch 10/25 [Training]: 100%|██████████| 10/10 [00:01<00:00,  5.71it/s]\n",
      "Epoch 10/25 [Validation]: 100%|██████████| 3/3 [00:00<00:00, 21.25it/s]\n"
     ]
    },
    {
     "name": "stdout",
     "output_type": "stream",
     "text": [
      "Train Loss: 0.0681, Train Acc: 0.9812\n",
      "Validation Loss: 0.0243, Validation Acc: 1.0000\n"
     ]
    },
    {
     "name": "stderr",
     "output_type": "stream",
     "text": [
      "Epoch 11/25 [Training]: 100%|██████████| 10/10 [00:01<00:00,  5.67it/s]\n",
      "Epoch 11/25 [Validation]: 100%|██████████| 3/3 [00:00<00:00, 20.00it/s]\n"
     ]
    },
    {
     "name": "stdout",
     "output_type": "stream",
     "text": [
      "Train Loss: 0.0458, Train Acc: 0.9875\n",
      "Validation Loss: 0.0668, Validation Acc: 1.0000\n"
     ]
    },
    {
     "name": "stderr",
     "output_type": "stream",
     "text": [
      "Epoch 12/25 [Training]: 100%|██████████| 10/10 [00:01<00:00,  5.76it/s]\n",
      "Epoch 12/25 [Validation]: 100%|██████████| 3/3 [00:00<00:00, 21.28it/s]\n"
     ]
    },
    {
     "name": "stdout",
     "output_type": "stream",
     "text": [
      "Train Loss: 0.0389, Train Acc: 0.9969\n",
      "Validation Loss: 0.0065, Validation Acc: 1.0000\n"
     ]
    },
    {
     "name": "stderr",
     "output_type": "stream",
     "text": [
      "Epoch 13/25 [Training]: 100%|██████████| 10/10 [00:01<00:00,  5.73it/s]\n",
      "Epoch 13/25 [Validation]: 100%|██████████| 3/3 [00:00<00:00, 21.58it/s]\n"
     ]
    },
    {
     "name": "stdout",
     "output_type": "stream",
     "text": [
      "Train Loss: 0.0286, Train Acc: 0.9937\n",
      "Validation Loss: 0.0045, Validation Acc: 1.0000\n"
     ]
    },
    {
     "name": "stderr",
     "output_type": "stream",
     "text": [
      "Epoch 14/25 [Training]: 100%|██████████| 10/10 [00:01<00:00,  5.66it/s]\n",
      "Epoch 14/25 [Validation]: 100%|██████████| 3/3 [00:00<00:00, 21.05it/s]\n"
     ]
    },
    {
     "name": "stdout",
     "output_type": "stream",
     "text": [
      "Train Loss: 0.0215, Train Acc: 0.9969\n",
      "Validation Loss: 0.0020, Validation Acc: 1.0000\n"
     ]
    },
    {
     "name": "stderr",
     "output_type": "stream",
     "text": [
      "Epoch 15/25 [Training]: 100%|██████████| 10/10 [00:01<00:00,  5.69it/s]\n",
      "Epoch 15/25 [Validation]: 100%|██████████| 3/3 [00:00<00:00, 21.49it/s]\n"
     ]
    },
    {
     "name": "stdout",
     "output_type": "stream",
     "text": [
      "Train Loss: 0.0102, Train Acc: 1.0000\n",
      "Validation Loss: 0.0013, Validation Acc: 1.0000\n"
     ]
    },
    {
     "name": "stderr",
     "output_type": "stream",
     "text": [
      "Epoch 16/25 [Training]: 100%|██████████| 10/10 [00:01<00:00,  5.68it/s]\n",
      "Epoch 16/25 [Validation]: 100%|██████████| 3/3 [00:00<00:00, 21.28it/s]\n"
     ]
    },
    {
     "name": "stdout",
     "output_type": "stream",
     "text": [
      "Train Loss: 0.0107, Train Acc: 1.0000\n",
      "Validation Loss: 0.0013, Validation Acc: 1.0000\n"
     ]
    },
    {
     "name": "stderr",
     "output_type": "stream",
     "text": [
      "Epoch 17/25 [Training]: 100%|██████████| 10/10 [00:01<00:00,  5.73it/s]\n",
      "Epoch 17/25 [Validation]: 100%|██████████| 3/3 [00:00<00:00, 20.41it/s]\n"
     ]
    },
    {
     "name": "stdout",
     "output_type": "stream",
     "text": [
      "Train Loss: 0.0080, Train Acc: 1.0000\n",
      "Validation Loss: 0.0027, Validation Acc: 1.0000\n"
     ]
    },
    {
     "name": "stderr",
     "output_type": "stream",
     "text": [
      "Epoch 18/25 [Training]: 100%|██████████| 10/10 [00:01<00:00,  5.73it/s]\n",
      "Epoch 18/25 [Validation]: 100%|██████████| 3/3 [00:00<00:00, 20.20it/s]\n"
     ]
    },
    {
     "name": "stdout",
     "output_type": "stream",
     "text": [
      "Train Loss: 0.0115, Train Acc: 1.0000\n",
      "Validation Loss: 0.0174, Validation Acc: 1.0000\n"
     ]
    },
    {
     "name": "stderr",
     "output_type": "stream",
     "text": [
      "Epoch 19/25 [Training]: 100%|██████████| 10/10 [00:01<00:00,  5.75it/s]\n",
      "Epoch 19/25 [Validation]: 100%|██████████| 3/3 [00:00<00:00, 21.50it/s]\n"
     ]
    },
    {
     "name": "stdout",
     "output_type": "stream",
     "text": [
      "Train Loss: 0.0097, Train Acc: 0.9969\n",
      "Validation Loss: 0.0054, Validation Acc: 1.0000\n"
     ]
    },
    {
     "name": "stderr",
     "output_type": "stream",
     "text": [
      "Epoch 20/25 [Training]: 100%|██████████| 10/10 [00:01<00:00,  5.65it/s]\n",
      "Epoch 20/25 [Validation]: 100%|██████████| 3/3 [00:00<00:00, 21.05it/s]\n"
     ]
    },
    {
     "name": "stdout",
     "output_type": "stream",
     "text": [
      "Train Loss: 0.0025, Train Acc: 1.0000\n",
      "Validation Loss: 0.0002, Validation Acc: 1.0000\n"
     ]
    },
    {
     "name": "stderr",
     "output_type": "stream",
     "text": [
      "Epoch 21/25 [Training]: 100%|██████████| 10/10 [00:01<00:00,  5.69it/s]\n",
      "Epoch 21/25 [Validation]: 100%|██████████| 3/3 [00:00<00:00, 20.34it/s]\n"
     ]
    },
    {
     "name": "stdout",
     "output_type": "stream",
     "text": [
      "Train Loss: 0.0031, Train Acc: 1.0000\n",
      "Validation Loss: 0.0002, Validation Acc: 1.0000\n"
     ]
    },
    {
     "name": "stderr",
     "output_type": "stream",
     "text": [
      "Epoch 22/25 [Training]: 100%|██████████| 10/10 [00:01<00:00,  5.72it/s]\n",
      "Epoch 22/25 [Validation]: 100%|██████████| 3/3 [00:00<00:00, 21.48it/s]\n"
     ]
    },
    {
     "name": "stdout",
     "output_type": "stream",
     "text": [
      "Train Loss: 0.0056, Train Acc: 1.0000\n",
      "Validation Loss: 0.0002, Validation Acc: 1.0000\n"
     ]
    },
    {
     "name": "stderr",
     "output_type": "stream",
     "text": [
      "Epoch 23/25 [Training]: 100%|██████████| 10/10 [00:01<00:00,  5.72it/s]\n",
      "Epoch 23/25 [Validation]: 100%|██████████| 3/3 [00:00<00:00, 21.12it/s]\n"
     ]
    },
    {
     "name": "stdout",
     "output_type": "stream",
     "text": [
      "Train Loss: 0.0416, Train Acc: 0.9906\n",
      "Validation Loss: 0.0012, Validation Acc: 1.0000\n"
     ]
    },
    {
     "name": "stderr",
     "output_type": "stream",
     "text": [
      "Epoch 24/25 [Training]: 100%|██████████| 10/10 [00:01<00:00,  5.67it/s]\n",
      "Epoch 24/25 [Validation]: 100%|██████████| 3/3 [00:00<00:00, 21.11it/s]\n"
     ]
    },
    {
     "name": "stdout",
     "output_type": "stream",
     "text": [
      "Train Loss: 0.0158, Train Acc: 0.9969\n",
      "Validation Loss: 0.0002, Validation Acc: 1.0000\n"
     ]
    },
    {
     "name": "stderr",
     "output_type": "stream",
     "text": [
      "Epoch 25/25 [Training]: 100%|██████████| 10/10 [00:01<00:00,  5.65it/s]\n",
      "Epoch 25/25 [Validation]: 100%|██████████| 3/3 [00:00<00:00, 19.93it/s]"
     ]
    },
    {
     "name": "stdout",
     "output_type": "stream",
     "text": [
      "Train Loss: 0.0077, Train Acc: 0.9969\n",
      "Validation Loss: 0.0002, Validation Acc: 1.0000\n"
     ]
    },
    {
     "name": "stderr",
     "output_type": "stream",
     "text": [
      "\n"
     ]
    }
   ],
   "source": [
    "criterion = nn.CrossEntropyLoss()\n",
    "optimizer = optim.Adam(model.parameters(), lr=0.00001)\n",
    "\n",
    "device = torch.device(\"cuda\" if torch.cuda.is_available() else \"cpu\")\n",
    "\n",
    "train_loss_history, train_acc_history, valid_loss_history, valid_acc_history = train_model(model, train_loader, valid_loader, num_epochs=25, criterion=criterion, optimizer=optimizer, device=device)"
   ]
  },
  {
   "cell_type": "code",
   "execution_count": 36,
   "metadata": {},
   "outputs": [],
   "source": [
    "torch.save(model.state_dict(), 'transformer_model.pth')"
   ]
  },
  {
   "cell_type": "code",
   "execution_count": 34,
   "metadata": {},
   "outputs": [
    {
     "data": {
      "text/plain": [
       "<matplotlib.legend.Legend at 0x2425bded8d0>"
      ]
     },
     "execution_count": 34,
     "metadata": {},
     "output_type": "execute_result"
    },
    {
     "data": {
      "image/png": "[encoded data removed]",
      "text/plain": [
       "<Figure size 1000x800 with 1 Axes>"
      ]
     },
     "metadata": {},
     "output_type": "display_data"
    }
   ],
   "source": [
    "plt.figure(figsize=(10, 8))\n",
    "plt.plot(train_loss_history, label='train', linewidth=3)\n",
    "plt.plot(valid_loss_history, label='valid', linewidth=3)\n",
    "plt.title('Loss history', fontsize=20, fontweight='bold')\n",
    "plt.xlabel('Epoch', fontsize=14, fontweight='bold')\n",
    "plt.ylabel('Loss', fontsize=14, fontweight='bold')\n",
    "plt.legend(fontsize=14)"
   ]
  },
  {
   "cell_type": "code",
   "execution_count": 35,
   "metadata": {},
   "outputs": [
    {
     "data": {
      "text/plain": [
       "<matplotlib.legend.Legend at 0x2425bdee490>"
      ]
     },
     "execution_count": 35,
     "metadata": {},
     "output_type": "execute_result"
    },
    {
     "data": {
      "image/png": "[encoded data removed]",
      "text/plain": [
       "<Figure size 1000x800 with 1 Axes>"
      ]
     },
     "metadata": {},
     "output_type": "display_data"
    }
   ],
   "source": [
    "plt.figure(figsize=(10, 8))\n",
    "plt.plot(train_acc_history, label='train', linewidth=3)\n",
    "plt.plot(valid_acc_history, label='valid', linewidth=3)\n",
    "plt.title('Accuracy history', fontsize=20, fontweight='bold')\n",
    "plt.xlabel('Epoch', fontsize=14, fontweight='bold')\n",
    "plt.ylabel('Accuracy', fontsize=14, fontweight='bold')\n",
    "plt.legend(fontsize=14)"
   ]
  },
  {
   "cell_type": "code",
   "execution_count": 39,
   "metadata": {},
   "outputs": [],
   "source": [
    "def evaluate_model(model, test_loader, criterion, device):\n",
    "    model.to(device)\n",
    "    model.eval()  # Set the model to evaluation mode\n",
    "\n",
    "    test_loss, test_corrects = 0.0, 0\n",
    "\n",
    "    with torch.no_grad():\n",
    "        for inputs, labels in test_loader:\n",
    "            inputs, labels = inputs.to(device), labels.to(device)\n",
    "\n",
    "            outputs = model(inputs)\n",
    "            loss = criterion(outputs, labels)\n",
    "\n",
    "            test_loss += loss.item() * inputs.size(0)\n",
    "           \n",
    "            predicted = torch.argmax(outputs, dim=1)\n",
    "            test_corrects += torch.sum(predicted == labels).item()\n",
    "\n",
    "    test_loss /= len(test_loader.dataset)\n",
    "    test_accuracy = test_corrects / len(test_loader.dataset)\n",
    "\n",
    "    print(f'Test Loss: {test_loss:.4f}, Test Accuracy: {test_accuracy:.4f}')"
   ]
  },
  {
   "cell_type": "code",
   "execution_count": 40,
   "metadata": {},
   "outputs": [
    {
     "name": "stdout",
     "output_type": "stream",
     "text": [
      "Test Loss: 0.0014, Test Accuracy: 1.0000\n"
     ]
    }
   ],
   "source": [
    "evaluate_model(model, test_loader, criterion, device)"
   ]
  },
  {
   "cell_type": "code",
   "execution_count": 41,
   "metadata": {},
   "outputs": [
    {
     "data": {
      "text/plain": [
       "TransformerModel(\n",
       "  (encoder): Linear(in_features=1025, out_features=512, bias=True)\n",
       "  (pos_encoder): PositionalEncoding()\n",
       "  (transformer_encoder): TransformerEncoder(\n",
       "    (layers): ModuleList(\n",
       "      (0-5): 6 x TransformerEncoderLayer(\n",
       "        (self_attn): MultiheadAttention(\n",
       "          (out_proj): NonDynamicallyQuantizableLinear(in_features=512, out_features=512, bias=True)\n",
       "        )\n",
       "        (linear1): Linear(in_features=512, out_features=2048, bias=True)\n",
       "        (dropout): Dropout(p=0.1, inplace=False)\n",
       "        (linear2): Linear(in_features=2048, out_features=512, bias=True)\n",
       "        (norm1): LayerNorm((512,), eps=1e-05, elementwise_affine=True)\n",
       "        (norm2): LayerNorm((512,), eps=1e-05, elementwise_affine=True)\n",
       "        (dropout1): Dropout(p=0.1, inplace=False)\n",
       "        (dropout2): Dropout(p=0.1, inplace=False)\n",
       "      )\n",
       "    )\n",
       "  )\n",
       "  (decoder): Linear(in_features=512, out_features=2, bias=True)\n",
       ")"
      ]
     },
     "execution_count": 41,
     "metadata": {},
     "output_type": "execute_result"
    }
   ],
   "source": [
    "model.to('cpu')"
   ]
  },
  {
   "cell_type": "code",
   "execution_count": 43,
   "metadata": {},
   "outputs": [
    {
     "name": "stdout",
     "output_type": "stream",
     "text": [
      "tensor([[ 4.9018, -4.8234]], grad_fn=<AddmmBackward0>)\n"
     ]
    }
   ],
   "source": [
    "spec_db = process_audio_data('resample_data/normal/normal-1.wav')\n",
    "spec_db = torch.from_numpy(spec_db.T).float()\n",
    "\n",
    "model.eval()  # Set the model to evaluation mode\n",
    "outputs = model(spec_db.unsqueeze(0))\n",
    "\n",
    "print(outputs)"
   ]
  },
  {
   "cell_type": "code",
   "execution_count": 44,
   "metadata": {},
   "outputs": [
    {
     "name": "stdout",
     "output_type": "stream",
     "text": [
      "tensor([[-4.1060,  5.3864]], grad_fn=<AddmmBackward0>)\n"
     ]
    }
   ],
   "source": [
    "spec_db = process_audio_data('resample_data/whistle/whistle-1.wav')\n",
    "spec_db = torch.from_numpy(spec_db.T).float()\n",
    "\n",
    "model.eval()  # Set the model to evaluation mode\n",
    "outputs = model(spec_db.unsqueeze(0))\n",
    "\n",
    "print(outputs)"
   ]
  }
 ],
 "metadata": {
  "kernelspec": {
   "display_name": "base",
   "language": "python",
   "name": "python3"
  },
  "language_info": {
   "codemirror_mode": {
    "name": "ipython",
    "version": 3
   },
   "file_extension": ".py",
   "mimetype": "text/x-python",
   "name": "python",
   "nbconvert_exporter": "python",
   "pygments_lexer": "ipython3",
   "version": "3.11.4"
  }
 },
 "nbformat": 4,
 "nbformat_minor": 2
}
